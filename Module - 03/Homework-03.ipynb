{
 "cells": [
  {
   "cell_type": "code",
   "execution_count": null,
   "id": "fa43cae3-d4b2-4ef2-8a29-058de22dc9b2",
   "metadata": {},
   "outputs": [],
   "source": []
  }
 ],
 "metadata": {
  "kernelspec": {
   "display_name": "",
   "name": ""
  },
  "language_info": {
   "name": ""
  }
 },
 "nbformat": 4,
 "nbformat_minor": 5
}
