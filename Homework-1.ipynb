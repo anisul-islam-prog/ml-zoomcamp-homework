{
 "cells": [
  {
   "cell_type": "code",
   "execution_count": 1,
   "id": "d5c0f122-a62b-4350-aa3b-fe682874929e",
   "metadata": {},
   "outputs": [],
   "source": [
    "import numpy as np\n",
    "import pandas as pd"
   ]
  },
  {
   "cell_type": "code",
   "execution_count": 2,
   "id": "6017ccf2-259c-47bd-aef8-f286b5c415ff",
   "metadata": {},
   "outputs": [
    {
     "data": {
      "text/html": [
       "<div>\n",
       "<style scoped>\n",
       "    .dataframe tbody tr th:only-of-type {\n",
       "        vertical-align: middle;\n",
       "    }\n",
       "\n",
       "    .dataframe tbody tr th {\n",
       "        vertical-align: top;\n",
       "    }\n",
       "\n",
       "    .dataframe thead th {\n",
       "        text-align: right;\n",
       "    }\n",
       "</style>\n",
       "<table border=\"1\" class=\"dataframe\">\n",
       "  <thead>\n",
       "    <tr style=\"text-align: right;\">\n",
       "      <th></th>\n",
       "      <th>engine_displacement</th>\n",
       "      <th>num_cylinders</th>\n",
       "      <th>horsepower</th>\n",
       "      <th>vehicle_weight</th>\n",
       "      <th>acceleration</th>\n",
       "      <th>model_year</th>\n",
       "      <th>origin</th>\n",
       "      <th>fuel_type</th>\n",
       "      <th>drivetrain</th>\n",
       "      <th>num_doors</th>\n",
       "      <th>fuel_efficiency_mpg</th>\n",
       "    </tr>\n",
       "  </thead>\n",
       "  <tbody>\n",
       "    <tr>\n",
       "      <th>0</th>\n",
       "      <td>170</td>\n",
       "      <td>3.0</td>\n",
       "      <td>159.0</td>\n",
       "      <td>3413.433759</td>\n",
       "      <td>17.7</td>\n",
       "      <td>2003</td>\n",
       "      <td>Europe</td>\n",
       "      <td>Gasoline</td>\n",
       "      <td>All-wheel drive</td>\n",
       "      <td>0.0</td>\n",
       "      <td>13.231729</td>\n",
       "    </tr>\n",
       "    <tr>\n",
       "      <th>1</th>\n",
       "      <td>130</td>\n",
       "      <td>5.0</td>\n",
       "      <td>97.0</td>\n",
       "      <td>3149.664934</td>\n",
       "      <td>17.8</td>\n",
       "      <td>2007</td>\n",
       "      <td>USA</td>\n",
       "      <td>Gasoline</td>\n",
       "      <td>Front-wheel drive</td>\n",
       "      <td>0.0</td>\n",
       "      <td>13.688217</td>\n",
       "    </tr>\n",
       "    <tr>\n",
       "      <th>2</th>\n",
       "      <td>170</td>\n",
       "      <td>NaN</td>\n",
       "      <td>78.0</td>\n",
       "      <td>3079.038997</td>\n",
       "      <td>15.1</td>\n",
       "      <td>2018</td>\n",
       "      <td>Europe</td>\n",
       "      <td>Gasoline</td>\n",
       "      <td>Front-wheel drive</td>\n",
       "      <td>0.0</td>\n",
       "      <td>14.246341</td>\n",
       "    </tr>\n",
       "    <tr>\n",
       "      <th>3</th>\n",
       "      <td>220</td>\n",
       "      <td>4.0</td>\n",
       "      <td>NaN</td>\n",
       "      <td>2542.392402</td>\n",
       "      <td>20.2</td>\n",
       "      <td>2009</td>\n",
       "      <td>USA</td>\n",
       "      <td>Diesel</td>\n",
       "      <td>All-wheel drive</td>\n",
       "      <td>2.0</td>\n",
       "      <td>16.912736</td>\n",
       "    </tr>\n",
       "    <tr>\n",
       "      <th>4</th>\n",
       "      <td>210</td>\n",
       "      <td>1.0</td>\n",
       "      <td>140.0</td>\n",
       "      <td>3460.870990</td>\n",
       "      <td>14.4</td>\n",
       "      <td>2009</td>\n",
       "      <td>Europe</td>\n",
       "      <td>Gasoline</td>\n",
       "      <td>All-wheel drive</td>\n",
       "      <td>2.0</td>\n",
       "      <td>12.488369</td>\n",
       "    </tr>\n",
       "  </tbody>\n",
       "</table>\n",
       "</div>"
      ],
      "text/plain": [
       "   engine_displacement  num_cylinders  horsepower  vehicle_weight  \\\n",
       "0                  170            3.0       159.0     3413.433759   \n",
       "1                  130            5.0        97.0     3149.664934   \n",
       "2                  170            NaN        78.0     3079.038997   \n",
       "3                  220            4.0         NaN     2542.392402   \n",
       "4                  210            1.0       140.0     3460.870990   \n",
       "\n",
       "   acceleration  model_year  origin fuel_type         drivetrain  num_doors  \\\n",
       "0          17.7        2003  Europe  Gasoline    All-wheel drive        0.0   \n",
       "1          17.8        2007     USA  Gasoline  Front-wheel drive        0.0   \n",
       "2          15.1        2018  Europe  Gasoline  Front-wheel drive        0.0   \n",
       "3          20.2        2009     USA    Diesel    All-wheel drive        2.0   \n",
       "4          14.4        2009  Europe  Gasoline    All-wheel drive        2.0   \n",
       "\n",
       "   fuel_efficiency_mpg  \n",
       "0            13.231729  \n",
       "1            13.688217  \n",
       "2            14.246341  \n",
       "3            16.912736  \n",
       "4            12.488369  "
      ]
     },
     "execution_count": 2,
     "metadata": {},
     "output_type": "execute_result"
    }
   ],
   "source": [
    "# Get data from url\n",
    "csv_url = \"https://raw.githubusercontent.com/alexeygrigorev/datasets/master/car_fuel_efficiency.csv\"\n",
    "df = pd.read_csv(csv_url)\n",
    "df.head()"
   ]
  },
  {
   "cell_type": "code",
   "execution_count": 3,
   "id": "4a478625-63ec-4fbd-9747-cbff349ad0d7",
   "metadata": {},
   "outputs": [
    {
     "name": "stdout",
     "output_type": "stream",
     "text": [
      "Q1 - Ans: 2.3.2\n"
     ]
    }
   ],
   "source": [
    "# What's the version of Pandas that you installed?\n",
    "# Pandas version\n",
    "print(f\"Q1 - Ans: {pd.__version__}\")"
   ]
  },
  {
   "cell_type": "code",
   "execution_count": 4,
   "id": "71c86aac-16de-40c3-8dd5-46df2d95fa55",
   "metadata": {},
   "outputs": [
    {
     "name": "stdout",
     "output_type": "stream",
     "text": [
      "Q2 - Ans: 9704\n"
     ]
    }
   ],
   "source": [
    "# How many records are in the dataset?\n",
    "# Number of records\n",
    "print(f\"Q2 - Ans: {len(df)}\")"
   ]
  },
  {
   "cell_type": "code",
   "execution_count": 5,
   "id": "d63f7d8d-4542-426e-bd7d-c999a0ff403c",
   "metadata": {},
   "outputs": [
    {
     "name": "stdout",
     "output_type": "stream",
     "text": [
      "  fuel_type  Count\n",
      "0    Diesel   4806\n",
      "1  Gasoline   4898 \n",
      "\n",
      "Q3 - Ans: 2\n"
     ]
    }
   ],
   "source": [
    "# How many fuel types are presented in the dataset?\n",
    "# Get number of Fuel Type\n",
    "groupby_fueltype = df.groupby('fuel_type').size().reset_index(name=\"Count\")\n",
    "print(groupby_fueltype, \"\\n\")\n",
    "\n",
    "unique_values_per_col = df.nunique()\n",
    "# type(unique_values_per_col)\n",
    "\n",
    "print(f\"Q3 - Ans: {unique_values_per_col.get('fuel_type')}\")\n"
   ]
  },
  {
   "cell_type": "code",
   "execution_count": 6,
   "id": "f23688f0-03f1-4a64-9ba5-cdc330dcfcaf",
   "metadata": {},
   "outputs": [
    {
     "name": "stdout",
     "output_type": "stream",
     "text": [
      "Q4 - Ans: 4\n"
     ]
    }
   ],
   "source": [
    "# How many columns in the dataset have missing values?\n",
    "# Get missing values by columns\n",
    "missing_values_per_col=df.isna().sum().reset_index(name=\"N_missing_values\")\n",
    "missing_values_col = missing_values_per_col[missing_values_per_col[\"N_missing_values\"] > 0]\n",
    "print(f\"Q4 - Ans: {len(missing_values_col)}\")"
   ]
  },
  {
   "cell_type": "code",
   "execution_count": 7,
   "id": "ef4d978b-0fd4-4286-97e0-ae01c26b7035",
   "metadata": {},
   "outputs": [
    {
     "name": "stdout",
     "output_type": "stream",
     "text": [
      "Q5 - Ans: 23.759122836520497\n"
     ]
    }
   ],
   "source": [
    "# What's the maximum fuel efficiency of cars from Asia?\n",
    "# Get max fuel efficiency of cars from asia\n",
    "cars_from_asia = df[df[\"origin\"] == \"Asia\"] # filter by origin = 'Asia'\n",
    "print(f\"Q5 - Ans: {cars_from_asia['fuel_efficiency_mpg'].max()}\")"
   ]
  },
  {
   "cell_type": "code",
   "execution_count": 8,
   "id": "f0a289b1-b370-4e62-99cb-da440bf9d2af",
   "metadata": {},
   "outputs": [
    {
     "name": "stdout",
     "output_type": "stream",
     "text": [
      "Median before fillna = 149.0,\n",
      "Most freq value = 152.0,\n",
      "Median After fillna = 152.0\n",
      "\n",
      "Q6 - Ans: Yes, it increased\n"
     ]
    }
   ],
   "source": [
    "# Q6: Median value of horsepower\n",
    "# Find the median value of horsepower column in the dataset.\n",
    "# Next, calculate the most frequent value of the same horsepower column.\n",
    "# Use fillna method to fill the missing values in horsepower column with the most frequent value from the previous step.\n",
    "# Now, calculate the median value of horsepower once again.\n",
    "# Has it changed?\n",
    "# Yes, it increased\n",
    "# Yes, it decreased\n",
    "# No\n",
    "\n",
    "# Median value before fillna\n",
    "horsepower_col = df['horsepower']\n",
    "before_median = horsepower_col.median()\n",
    "\n",
    "# most freq value in horsepower\n",
    "most_freq_row= horsepower_col.value_counts().reset_index(name='count')\n",
    "most_freq = most_freq_row['horsepower'][0]\n",
    "\n",
    "# fill nan value with most frequent and find median\n",
    "filled = horsepower_col.fillna(most_freq)\n",
    "after_median = filled.median() # Median\n",
    "\n",
    "print(f\"Median before fillna = {before_median},\\nMost freq value = {most_freq},\\nMedian After fillna = {after_median}\\n\")\n",
    "\n",
    "\n",
    "if before_median > after_median:\n",
    "     print(f\"Q6 - Ans: Yes, it decreased\")\n",
    "elif before_median < after_median:\n",
    "    print(f\"Q6 - Ans: Yes, it increased\")\n",
    "else:\n",
    "    print(f\"Q6 - Ans: No\")"
   ]
  },
  {
   "cell_type": "code",
   "execution_count": 23,
   "id": "1a0db575-c53d-46ee-97cd-51dc9eefb9c0",
   "metadata": {},
   "outputs": [],
   "source": [
    "# Q7. Sum of weights\n",
    "# 1.Select all the cars from Asia\n",
    "# 2. Select only columns vehicle_weight and model_year\n",
    "# 3. Select the first 7 values\n",
    "# 4. Get the underlying NumPy array. Let's call it X.\n",
    "# 5. Compute matrix-matrix multiplication between the transpose of X and X. To get the transpose, use X.T. Let's call the result XTX.\n",
    "# 6. Invert XTX.\n",
    "# 7. Create an array y with values [1100, 1300, 800, 900, 1000, 1100, 1200].\n",
    "# 8. Multiply the inverse of XTX with the transpose of X, and then multiply the result by y. Call the result w.\n",
    "# What's the sum of all the elements of the result? Note: You just implemented linear regression. We'll talk about it in the next lesson.\n",
    "cars_from_asia.reset_index(drop=True, inplace=True)\n",
    "selected_df= cars_from_asia[['vehicle_weight', 'model_year']].head(8)\n",
    "X = selected_df.values\n",
    "XTX = X.dot(X.T)\n",
    "\n",
    "XTX\n",
    "inverted_XTX = np.linalg.inv(XTX)\n",
    "#inverted_XTX"
   ]
  }
 ],
 "metadata": {
  "kernelspec": {
   "display_name": "Python 3 (ipykernel)",
   "language": "python",
   "name": "python3"
  },
  "language_info": {
   "codemirror_mode": {
    "name": "ipython",
    "version": 3
   },
   "file_extension": ".py",
   "mimetype": "text/x-python",
   "name": "python",
   "nbconvert_exporter": "python",
   "pygments_lexer": "ipython3",
   "version": "3.13.7"
  }
 },
 "nbformat": 4,
 "nbformat_minor": 5
}
